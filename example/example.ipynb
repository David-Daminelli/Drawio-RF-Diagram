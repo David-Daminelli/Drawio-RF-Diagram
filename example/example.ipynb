{
 "cells": [
  {
   "cell_type": "code",
   "execution_count": null,
   "id": "0b2e1c91",
   "metadata": {},
   "outputs": [],
   "source": [
    "import drawio_rf\n",
    "\n",
    "file = \"example.xml\"\n",
    "\n",
    "circuit_df = drawio_rf.compute_drawio(file)\n",
    "\n",
    "circuit_df"
   ]
  }
 ],
 "metadata": {
  "kernelspec": {
   "display_name": "base",
   "language": "python",
   "name": "python3"
  },
  "language_info": {
   "codemirror_mode": {
    "name": "ipython",
    "version": 3
   },
   "file_extension": ".py",
   "mimetype": "text/x-python",
   "name": "python",
   "nbconvert_exporter": "python",
   "pygments_lexer": "ipython3",
   "version": "3.13.5"
  }
 },
 "nbformat": 4,
 "nbformat_minor": 5
}
